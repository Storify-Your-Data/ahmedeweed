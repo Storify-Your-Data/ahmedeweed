{
 "cells": [
  {
   "cell_type": "markdown",
   "metadata": {},
   "source": [
    "## Google analytics customer revenue predictions\n",
    "### By Ahmed Eweed  \n",
    "\n",
    "### You can find me on github at [github.com/AhmedEweed](https://github.com/AhmedEweed)"
   ]
  },
  {
   "cell_type": "markdown",
   "metadata": {},
   "source": [
    "    I re approached the dataset as I explored it in many ways\n",
    "    and this version is the updated version of my exploration"
   ]
  },
  {
   "cell_type": "code",
   "execution_count": 206,
   "metadata": {},
   "outputs": [],
   "source": [
    "import os\n",
    "import json\n",
    "import numpy as np\n",
    "import warnings\n",
    "import pandas as pd\n",
    "import matplotlib.pyplot as plt\n",
    "import matplotlib.ticker as tick\n",
    "from pandas.io.json import json_normalize\n",
    "warnings.filterwarnings('ignore')\n",
    "# load dataset with the option to specify which column to flatten from json and the datatypes of each column\n",
    "def load_df(csv_path=None, Json=[], dtype = {}):\n",
    "    JSON_COLUMNS = Json\n",
    "    df = pd.read_csv(csv_path, \n",
    "                     converters={column: json.loads for column in JSON_COLUMNS}, \n",
    "                     dtype=dtype,\n",
    "                     )\n",
    "    \n",
    "    for column in JSON_COLUMNS:\n",
    "        column_as_df = json_normalize(df[column])\n",
    "        column_as_df.columns = [f\"{column}.{subcolumn}\" for subcolumn in column_as_df.columns]\n",
    "        df = df.drop(column, axis=1).merge(column_as_df, right_index=True, left_index=True)\n",
    "    print(f\"Loaded {os.path.basename(csv_path)}. Shape: {df.shape}\")\n",
    "    return df"
   ]
  },
  {
   "cell_type": "code",
   "execution_count": 111,
   "metadata": {
    "scrolled": false
   },
   "outputs": [
    {
     "name": "stdout",
     "output_type": "stream",
     "text": [
      "Loaded train.csv. Shape: (903653, 17)\n"
     ]
    },
    {
     "data": {
      "text/html": [
       "<div>\n",
       "<style scoped>\n",
       "    .dataframe tbody tr th:only-of-type {\n",
       "        vertical-align: middle;\n",
       "    }\n",
       "\n",
       "    .dataframe tbody tr th {\n",
       "        vertical-align: top;\n",
       "    }\n",
       "\n",
       "    .dataframe thead th {\n",
       "        text-align: right;\n",
       "    }\n",
       "</style>\n",
       "<table border=\"1\" class=\"dataframe\">\n",
       "  <thead>\n",
       "    <tr style=\"text-align: right;\">\n",
       "      <th></th>\n",
       "      <th>channelGrouping</th>\n",
       "      <th>date</th>\n",
       "      <th>device</th>\n",
       "      <th>fullVisitorId</th>\n",
       "      <th>geoNetwork</th>\n",
       "      <th>sessionId</th>\n",
       "      <th>socialEngagementType</th>\n",
       "      <th>trafficSource</th>\n",
       "      <th>visitId</th>\n",
       "      <th>visitNumber</th>\n",
       "      <th>visitStartTime</th>\n",
       "      <th>totals.bounces</th>\n",
       "      <th>totals.hits</th>\n",
       "      <th>totals.newVisits</th>\n",
       "      <th>totals.pageviews</th>\n",
       "      <th>totals.transactionRevenue</th>\n",
       "      <th>totals.visits</th>\n",
       "    </tr>\n",
       "  </thead>\n",
       "  <tbody>\n",
       "    <tr>\n",
       "      <th>0</th>\n",
       "      <td>Organic Search</td>\n",
       "      <td>20160902</td>\n",
       "      <td>{\"browser\": \"Chrome\", \"browserVersion\": \"not a...</td>\n",
       "      <td>1.131660e+18</td>\n",
       "      <td>{\"continent\": \"Asia\", \"subContinent\": \"Western...</td>\n",
       "      <td>1131660440785968503_1472830385</td>\n",
       "      <td>Not Socially Engaged</td>\n",
       "      <td>{\"campaign\": \"(not set)\", \"source\": \"google\", ...</td>\n",
       "      <td>1472830385</td>\n",
       "      <td>1</td>\n",
       "      <td>1472830385</td>\n",
       "      <td>1</td>\n",
       "      <td>1</td>\n",
       "      <td>1</td>\n",
       "      <td>1</td>\n",
       "      <td>NaN</td>\n",
       "      <td>1</td>\n",
       "    </tr>\n",
       "    <tr>\n",
       "      <th>1</th>\n",
       "      <td>Organic Search</td>\n",
       "      <td>20160902</td>\n",
       "      <td>{\"browser\": \"Firefox\", \"browserVersion\": \"not ...</td>\n",
       "      <td>3.773060e+17</td>\n",
       "      <td>{\"continent\": \"Oceania\", \"subContinent\": \"Aust...</td>\n",
       "      <td>377306020877927890_1472880147</td>\n",
       "      <td>Not Socially Engaged</td>\n",
       "      <td>{\"campaign\": \"(not set)\", \"source\": \"google\", ...</td>\n",
       "      <td>1472880147</td>\n",
       "      <td>1</td>\n",
       "      <td>1472880147</td>\n",
       "      <td>1</td>\n",
       "      <td>1</td>\n",
       "      <td>1</td>\n",
       "      <td>1</td>\n",
       "      <td>NaN</td>\n",
       "      <td>1</td>\n",
       "    </tr>\n",
       "    <tr>\n",
       "      <th>2</th>\n",
       "      <td>Organic Search</td>\n",
       "      <td>20160902</td>\n",
       "      <td>{\"browser\": \"Chrome\", \"browserVersion\": \"not a...</td>\n",
       "      <td>3.895550e+18</td>\n",
       "      <td>{\"continent\": \"Europe\", \"subContinent\": \"South...</td>\n",
       "      <td>3895546263509774583_1472865386</td>\n",
       "      <td>Not Socially Engaged</td>\n",
       "      <td>{\"campaign\": \"(not set)\", \"source\": \"google\", ...</td>\n",
       "      <td>1472865386</td>\n",
       "      <td>1</td>\n",
       "      <td>1472865386</td>\n",
       "      <td>1</td>\n",
       "      <td>1</td>\n",
       "      <td>1</td>\n",
       "      <td>1</td>\n",
       "      <td>NaN</td>\n",
       "      <td>1</td>\n",
       "    </tr>\n",
       "    <tr>\n",
       "      <th>3</th>\n",
       "      <td>Organic Search</td>\n",
       "      <td>20160902</td>\n",
       "      <td>{\"browser\": \"UC Browser\", \"browserVersion\": \"n...</td>\n",
       "      <td>4.763450e+18</td>\n",
       "      <td>{\"continent\": \"Asia\", \"subContinent\": \"Southea...</td>\n",
       "      <td>4763447161404445595_1472881213</td>\n",
       "      <td>Not Socially Engaged</td>\n",
       "      <td>{\"campaign\": \"(not set)\", \"source\": \"google\", ...</td>\n",
       "      <td>1472881213</td>\n",
       "      <td>1</td>\n",
       "      <td>1472881213</td>\n",
       "      <td>1</td>\n",
       "      <td>1</td>\n",
       "      <td>1</td>\n",
       "      <td>1</td>\n",
       "      <td>NaN</td>\n",
       "      <td>1</td>\n",
       "    </tr>\n",
       "    <tr>\n",
       "      <th>4</th>\n",
       "      <td>Organic Search</td>\n",
       "      <td>20160902</td>\n",
       "      <td>{\"browser\": \"Chrome\", \"browserVersion\": \"not a...</td>\n",
       "      <td>2.729440e+16</td>\n",
       "      <td>{\"continent\": \"Europe\", \"subContinent\": \"North...</td>\n",
       "      <td>27294437909732085_1472822600</td>\n",
       "      <td>Not Socially Engaged</td>\n",
       "      <td>{\"campaign\": \"(not set)\", \"source\": \"google\", ...</td>\n",
       "      <td>1472822600</td>\n",
       "      <td>2</td>\n",
       "      <td>1472822600</td>\n",
       "      <td>1</td>\n",
       "      <td>1</td>\n",
       "      <td>NaN</td>\n",
       "      <td>1</td>\n",
       "      <td>NaN</td>\n",
       "      <td>1</td>\n",
       "    </tr>\n",
       "  </tbody>\n",
       "</table>\n",
       "</div>"
      ],
      "text/plain": [
       "  channelGrouping      date  \\\n",
       "0  Organic Search  20160902   \n",
       "1  Organic Search  20160902   \n",
       "2  Organic Search  20160902   \n",
       "3  Organic Search  20160902   \n",
       "4  Organic Search  20160902   \n",
       "\n",
       "                                              device  fullVisitorId  \\\n",
       "0  {\"browser\": \"Chrome\", \"browserVersion\": \"not a...   1.131660e+18   \n",
       "1  {\"browser\": \"Firefox\", \"browserVersion\": \"not ...   3.773060e+17   \n",
       "2  {\"browser\": \"Chrome\", \"browserVersion\": \"not a...   3.895550e+18   \n",
       "3  {\"browser\": \"UC Browser\", \"browserVersion\": \"n...   4.763450e+18   \n",
       "4  {\"browser\": \"Chrome\", \"browserVersion\": \"not a...   2.729440e+16   \n",
       "\n",
       "                                          geoNetwork  \\\n",
       "0  {\"continent\": \"Asia\", \"subContinent\": \"Western...   \n",
       "1  {\"continent\": \"Oceania\", \"subContinent\": \"Aust...   \n",
       "2  {\"continent\": \"Europe\", \"subContinent\": \"South...   \n",
       "3  {\"continent\": \"Asia\", \"subContinent\": \"Southea...   \n",
       "4  {\"continent\": \"Europe\", \"subContinent\": \"North...   \n",
       "\n",
       "                        sessionId  socialEngagementType  \\\n",
       "0  1131660440785968503_1472830385  Not Socially Engaged   \n",
       "1   377306020877927890_1472880147  Not Socially Engaged   \n",
       "2  3895546263509774583_1472865386  Not Socially Engaged   \n",
       "3  4763447161404445595_1472881213  Not Socially Engaged   \n",
       "4    27294437909732085_1472822600  Not Socially Engaged   \n",
       "\n",
       "                                       trafficSource     visitId  visitNumber  \\\n",
       "0  {\"campaign\": \"(not set)\", \"source\": \"google\", ...  1472830385            1   \n",
       "1  {\"campaign\": \"(not set)\", \"source\": \"google\", ...  1472880147            1   \n",
       "2  {\"campaign\": \"(not set)\", \"source\": \"google\", ...  1472865386            1   \n",
       "3  {\"campaign\": \"(not set)\", \"source\": \"google\", ...  1472881213            1   \n",
       "4  {\"campaign\": \"(not set)\", \"source\": \"google\", ...  1472822600            2   \n",
       "\n",
       "   visitStartTime totals.bounces totals.hits totals.newVisits  \\\n",
       "0      1472830385              1           1                1   \n",
       "1      1472880147              1           1                1   \n",
       "2      1472865386              1           1                1   \n",
       "3      1472881213              1           1                1   \n",
       "4      1472822600              1           1              NaN   \n",
       "\n",
       "  totals.pageviews totals.transactionRevenue totals.visits  \n",
       "0                1                       NaN             1  \n",
       "1                1                       NaN             1  \n",
       "2                1                       NaN             1  \n",
       "3                1                       NaN             1  \n",
       "4                1                       NaN             1  "
      ]
     },
     "execution_count": 111,
     "metadata": {},
     "output_type": "execute_result"
    }
   ],
   "source": [
    "#load dataset\n",
    "df = load_df('../train.csv', ['totals'])\n",
    "df.head()"
   ]
  },
  {
   "cell_type": "code",
   "execution_count": 112,
   "metadata": {
    "scrolled": false
   },
   "outputs": [
    {
     "name": "stdout",
     "output_type": "stream",
     "text": [
      "<class 'pandas.core.frame.DataFrame'>\n",
      "RangeIndex: 903653 entries, 0 to 903652\n",
      "Data columns (total 17 columns):\n",
      "channelGrouping              903653 non-null object\n",
      "date                         903653 non-null int64\n",
      "device                       903653 non-null object\n",
      "fullVisitorId                903653 non-null float64\n",
      "geoNetwork                   903653 non-null object\n",
      "sessionId                    903653 non-null object\n",
      "socialEngagementType         903653 non-null object\n",
      "trafficSource                903653 non-null object\n",
      "visitId                      903653 non-null int64\n",
      "visitNumber                  903653 non-null int64\n",
      "visitStartTime               903653 non-null int64\n",
      "totals.bounces               450630 non-null object\n",
      "totals.hits                  903653 non-null object\n",
      "totals.newVisits             703060 non-null object\n",
      "totals.pageviews             903553 non-null object\n",
      "totals.transactionRevenue    11515 non-null object\n",
      "totals.visits                903653 non-null object\n",
      "dtypes: float64(1), int64(4), object(12)\n",
      "memory usage: 117.2+ MB\n"
     ]
    }
   ],
   "source": [
    "# look up the datatypes present in the dataset\n",
    "df.info()"
   ]
  },
  {
   "cell_type": "markdown",
   "metadata": {},
   "source": [
    "the dataset is `dirty` and `untidy` let's do some work to tidy and clean it"
   ]
  },
  {
   "cell_type": "code",
   "execution_count": 113,
   "metadata": {},
   "outputs": [],
   "source": [
    "# convert revenue to float\n",
    "df['totals.transactionRevenue'] = df['totals.transactionRevenue'].astype(float)"
   ]
  },
  {
   "cell_type": "code",
   "execution_count": 114,
   "metadata": {},
   "outputs": [],
   "source": [
    "df['fullVisitorId'] = df['fullVisitorId'].astype(str)"
   ]
  },
  {
   "cell_type": "code",
   "execution_count": 115,
   "metadata": {},
   "outputs": [],
   "source": [
    "# extract only numeric values of revenue\n",
    "df_part = df[df['totals.transactionRevenue'] > 0.0]"
   ]
  },
  {
   "cell_type": "code",
   "execution_count": 116,
   "metadata": {},
   "outputs": [],
   "source": [
    "# reset the index of the the new extracted dataset\n",
    "df_part = df_part.reset_index(drop = True)"
   ]
  },
  {
   "cell_type": "code",
   "execution_count": 117,
   "metadata": {},
   "outputs": [
    {
     "data": {
      "text/plain": [
       "0    20160902\n",
       "1    20160902\n",
       "2    20160902\n",
       "3    20160902\n",
       "4    20160902\n",
       "Name: date, dtype: int64"
      ]
     },
     "execution_count": 117,
     "metadata": {},
     "output_type": "execute_result"
    }
   ],
   "source": [
    "# look up the date column format\n",
    "df_part['date'].head()"
   ]
  },
  {
   "cell_type": "code",
   "execution_count": 118,
   "metadata": {
    "scrolled": true
   },
   "outputs": [],
   "source": [
    "# convert date to the right format `year-month-day`\n",
    "df_part['date'] = pd.to_datetime(df_part['date'], format = '%Y%m%d')   "
   ]
  },
  {
   "cell_type": "code",
   "execution_count": 119,
   "metadata": {},
   "outputs": [],
   "source": [
    "# save extracted dataset\n",
    "df_part.to_csv('revenue_data.csv', index = False)"
   ]
  },
  {
   "cell_type": "code",
   "execution_count": 120,
   "metadata": {},
   "outputs": [
    {
     "name": "stdout",
     "output_type": "stream",
     "text": [
      "Loaded revenue_data.csv. Shape: (11515, 54)\n"
     ]
    }
   ],
   "source": [
    "# load our brand new dataset\n",
    "# with flattening the rest of Json columns(device, geoNetword and trafficSource)\n",
    "\n",
    "df_part = load_df('revenue_data.csv', ['device', 'geoNetwork', 'trafficSource'])"
   ]
  },
  {
   "cell_type": "code",
   "execution_count": 121,
   "metadata": {
    "scrolled": true
   },
   "outputs": [
    {
     "data": {
      "text/html": [
       "<div>\n",
       "<style scoped>\n",
       "    .dataframe tbody tr th:only-of-type {\n",
       "        vertical-align: middle;\n",
       "    }\n",
       "\n",
       "    .dataframe tbody tr th {\n",
       "        vertical-align: top;\n",
       "    }\n",
       "\n",
       "    .dataframe thead th {\n",
       "        text-align: right;\n",
       "    }\n",
       "</style>\n",
       "<table border=\"1\" class=\"dataframe\">\n",
       "  <thead>\n",
       "    <tr style=\"text-align: right;\">\n",
       "      <th></th>\n",
       "      <th>channelGrouping</th>\n",
       "      <th>date</th>\n",
       "      <th>fullVisitorId</th>\n",
       "      <th>sessionId</th>\n",
       "      <th>socialEngagementType</th>\n",
       "      <th>visitId</th>\n",
       "      <th>visitNumber</th>\n",
       "      <th>visitStartTime</th>\n",
       "      <th>totals.bounces</th>\n",
       "      <th>totals.hits</th>\n",
       "      <th>...</th>\n",
       "      <th>trafficSource.adwordsClickInfo.gclId</th>\n",
       "      <th>trafficSource.adwordsClickInfo.isVideoAd</th>\n",
       "      <th>trafficSource.adwordsClickInfo.page</th>\n",
       "      <th>trafficSource.adwordsClickInfo.slot</th>\n",
       "      <th>trafficSource.campaign</th>\n",
       "      <th>trafficSource.isTrueDirect</th>\n",
       "      <th>trafficSource.keyword</th>\n",
       "      <th>trafficSource.medium</th>\n",
       "      <th>trafficSource.referralPath</th>\n",
       "      <th>trafficSource.source</th>\n",
       "    </tr>\n",
       "  </thead>\n",
       "  <tbody>\n",
       "    <tr>\n",
       "      <th>0</th>\n",
       "      <td>Direct</td>\n",
       "      <td>2016-09-02</td>\n",
       "      <td>6.194190e+18</td>\n",
       "      <td>6194193421514403509_1472843572</td>\n",
       "      <td>Not Socially Engaged</td>\n",
       "      <td>1472843572</td>\n",
       "      <td>1</td>\n",
       "      <td>1472843572</td>\n",
       "      <td>NaN</td>\n",
       "      <td>11</td>\n",
       "      <td>...</td>\n",
       "      <td>NaN</td>\n",
       "      <td>NaN</td>\n",
       "      <td>NaN</td>\n",
       "      <td>NaN</td>\n",
       "      <td>(not set)</td>\n",
       "      <td>True</td>\n",
       "      <td>NaN</td>\n",
       "      <td>(none)</td>\n",
       "      <td>NaN</td>\n",
       "      <td>(direct)</td>\n",
       "    </tr>\n",
       "    <tr>\n",
       "      <th>1</th>\n",
       "      <td>Organic Search</td>\n",
       "      <td>2016-09-02</td>\n",
       "      <td>5.327170e+18</td>\n",
       "      <td>5327166854580374902_1472844906</td>\n",
       "      <td>Not Socially Engaged</td>\n",
       "      <td>1472844906</td>\n",
       "      <td>3</td>\n",
       "      <td>1472844906</td>\n",
       "      <td>NaN</td>\n",
       "      <td>11</td>\n",
       "      <td>...</td>\n",
       "      <td>NaN</td>\n",
       "      <td>NaN</td>\n",
       "      <td>NaN</td>\n",
       "      <td>NaN</td>\n",
       "      <td>(not set)</td>\n",
       "      <td>True</td>\n",
       "      <td>(not provided)</td>\n",
       "      <td>organic</td>\n",
       "      <td>NaN</td>\n",
       "      <td>google</td>\n",
       "    </tr>\n",
       "    <tr>\n",
       "      <th>2</th>\n",
       "      <td>Referral</td>\n",
       "      <td>2016-09-02</td>\n",
       "      <td>8.885050e+18</td>\n",
       "      <td>8885051388942907862_1472827393</td>\n",
       "      <td>Not Socially Engaged</td>\n",
       "      <td>1472827393</td>\n",
       "      <td>7</td>\n",
       "      <td>1472827393</td>\n",
       "      <td>NaN</td>\n",
       "      <td>13</td>\n",
       "      <td>...</td>\n",
       "      <td>NaN</td>\n",
       "      <td>NaN</td>\n",
       "      <td>NaN</td>\n",
       "      <td>NaN</td>\n",
       "      <td>(not set)</td>\n",
       "      <td>True</td>\n",
       "      <td>NaN</td>\n",
       "      <td>referral</td>\n",
       "      <td>/</td>\n",
       "      <td>mall.googleplex.com</td>\n",
       "    </tr>\n",
       "    <tr>\n",
       "      <th>3</th>\n",
       "      <td>Referral</td>\n",
       "      <td>2016-09-02</td>\n",
       "      <td>1.854680e+17</td>\n",
       "      <td>0185467632009737931_1472846398</td>\n",
       "      <td>Not Socially Engaged</td>\n",
       "      <td>1472846398</td>\n",
       "      <td>6</td>\n",
       "      <td>1472846398</td>\n",
       "      <td>NaN</td>\n",
       "      <td>13</td>\n",
       "      <td>...</td>\n",
       "      <td>NaN</td>\n",
       "      <td>NaN</td>\n",
       "      <td>NaN</td>\n",
       "      <td>NaN</td>\n",
       "      <td>(not set)</td>\n",
       "      <td>True</td>\n",
       "      <td>NaN</td>\n",
       "      <td>referral</td>\n",
       "      <td>/</td>\n",
       "      <td>mall.googleplex.com</td>\n",
       "    </tr>\n",
       "    <tr>\n",
       "      <th>4</th>\n",
       "      <td>Referral</td>\n",
       "      <td>2016-09-02</td>\n",
       "      <td>3.244890e+18</td>\n",
       "      <td>3244885836845029978_1472824817</td>\n",
       "      <td>Not Socially Engaged</td>\n",
       "      <td>1472824817</td>\n",
       "      <td>4</td>\n",
       "      <td>1472824817</td>\n",
       "      <td>NaN</td>\n",
       "      <td>17</td>\n",
       "      <td>...</td>\n",
       "      <td>NaN</td>\n",
       "      <td>NaN</td>\n",
       "      <td>NaN</td>\n",
       "      <td>NaN</td>\n",
       "      <td>(not set)</td>\n",
       "      <td>True</td>\n",
       "      <td>NaN</td>\n",
       "      <td>referral</td>\n",
       "      <td>/</td>\n",
       "      <td>mall.googleplex.com</td>\n",
       "    </tr>\n",
       "  </tbody>\n",
       "</table>\n",
       "<p>5 rows × 54 columns</p>\n",
       "</div>"
      ],
      "text/plain": [
       "  channelGrouping        date  fullVisitorId                       sessionId  \\\n",
       "0          Direct  2016-09-02   6.194190e+18  6194193421514403509_1472843572   \n",
       "1  Organic Search  2016-09-02   5.327170e+18  5327166854580374902_1472844906   \n",
       "2        Referral  2016-09-02   8.885050e+18  8885051388942907862_1472827393   \n",
       "3        Referral  2016-09-02   1.854680e+17  0185467632009737931_1472846398   \n",
       "4        Referral  2016-09-02   3.244890e+18  3244885836845029978_1472824817   \n",
       "\n",
       "   socialEngagementType     visitId  visitNumber  visitStartTime  \\\n",
       "0  Not Socially Engaged  1472843572            1      1472843572   \n",
       "1  Not Socially Engaged  1472844906            3      1472844906   \n",
       "2  Not Socially Engaged  1472827393            7      1472827393   \n",
       "3  Not Socially Engaged  1472846398            6      1472846398   \n",
       "4  Not Socially Engaged  1472824817            4      1472824817   \n",
       "\n",
       "   totals.bounces  totals.hits          ...           \\\n",
       "0             NaN           11          ...            \n",
       "1             NaN           11          ...            \n",
       "2             NaN           13          ...            \n",
       "3             NaN           13          ...            \n",
       "4             NaN           17          ...            \n",
       "\n",
       "   trafficSource.adwordsClickInfo.gclId  \\\n",
       "0                                   NaN   \n",
       "1                                   NaN   \n",
       "2                                   NaN   \n",
       "3                                   NaN   \n",
       "4                                   NaN   \n",
       "\n",
       "   trafficSource.adwordsClickInfo.isVideoAd  \\\n",
       "0                                       NaN   \n",
       "1                                       NaN   \n",
       "2                                       NaN   \n",
       "3                                       NaN   \n",
       "4                                       NaN   \n",
       "\n",
       "   trafficSource.adwordsClickInfo.page  trafficSource.adwordsClickInfo.slot  \\\n",
       "0                                  NaN                                  NaN   \n",
       "1                                  NaN                                  NaN   \n",
       "2                                  NaN                                  NaN   \n",
       "3                                  NaN                                  NaN   \n",
       "4                                  NaN                                  NaN   \n",
       "\n",
       "  trafficSource.campaign trafficSource.isTrueDirect trafficSource.keyword  \\\n",
       "0              (not set)                       True                   NaN   \n",
       "1              (not set)                       True        (not provided)   \n",
       "2              (not set)                       True                   NaN   \n",
       "3              (not set)                       True                   NaN   \n",
       "4              (not set)                       True                   NaN   \n",
       "\n",
       "  trafficSource.medium trafficSource.referralPath  trafficSource.source  \n",
       "0               (none)                        NaN              (direct)  \n",
       "1              organic                        NaN                google  \n",
       "2             referral                          /   mall.googleplex.com  \n",
       "3             referral                          /   mall.googleplex.com  \n",
       "4             referral                          /   mall.googleplex.com  \n",
       "\n",
       "[5 rows x 54 columns]"
      ]
     },
     "execution_count": 121,
     "metadata": {},
     "output_type": "execute_result"
    }
   ],
   "source": [
    "# look at the dataset\n",
    "df_part.head()"
   ]
  },
  {
   "cell_type": "markdown",
   "metadata": {},
   "source": [
    "Look at each cloumn's values to drop any empty or irrelevant ones \n",
    "\n",
    "I have commented the code for it is no longer needed and it took too much space to display \n",
    "\n",
    "but I left it for documentation sake"
   ]
  },
  {
   "cell_type": "code",
   "execution_count": 122,
   "metadata": {},
   "outputs": [],
   "source": [
    "# look at each cloumn's values to drop any empty or irrelevant ones\n",
    "\n",
    "\n",
    "#for item in df_part.columns:\n",
    "#    print(df_part[item].value_counts())"
   ]
  },
  {
   "cell_type": "code",
   "execution_count": 123,
   "metadata": {},
   "outputs": [],
   "source": [
    "# drop empty and not needed columns\n",
    "df_part = df_part.drop(['geoNetwork.networkLocation',\n",
    "              'geoNetwork.latitude',\n",
    "              'geoNetwork.longitude',\n",
    "              'trafficSource.adwordsClickInfo.criteriaParameters',\n",
    "              'socialEngagementType',\n",
    "              'totals.bounces',\n",
    "              'device.browserSize',\n",
    "              'device.browserVersion',\n",
    "              'device.flashVersion',\n",
    "              'device.language',\n",
    "              'device.mobileDeviceBranding',\n",
    "              'device.mobileDeviceInfo',\n",
    "              'device.mobileDeviceModel',\n",
    "              'device.mobileInputSelector',\n",
    "              'device.mobileDeviceMarketingName',\n",
    "              'device.operatingSystemVersion',\n",
    "              'device.screenColors',\n",
    "              'device.screenResolution',\n",
    "              'geoNetwork.cityId'], axis = 1)"
   ]
  },
  {
   "cell_type": "code",
   "execution_count": 124,
   "metadata": {},
   "outputs": [],
   "source": [
    "# rename columns \n",
    "df_part.rename(columns ={'channelGrouping':'channel',\n",
    "                         'totals.hits':'hits',\n",
    "                         'totals.newVisits':'newvisits',\n",
    "                         'totals.pageviews':'pageviews',\n",
    "                         'totals.transactionRevenue':'revenue', \n",
    "                         'totals.visits':'visits',\n",
    "                         'device.browser':'browser',\n",
    "                         'device.deviceCategory':'devicecategory', \n",
    "                         'device.isMobile':'ismobile',\n",
    "                         'device.operatingSystem':'os',\n",
    "                         'geoNetwork.city':'city', \n",
    "                         'geoNetwork.continent':'continent',\n",
    "                         'geoNetwork.country':'country', \n",
    "                         'geoNetwork.metro':'metro',\n",
    "                         'geoNetwork.networkDomain':'networkdomain',\n",
    "                         'geoNetwork.region':'region',\n",
    "                         'geoNetwork.subContinent':'subcontinent',\n",
    "                         'trafficSource.adContent':'adContent',\n",
    "                         'trafficSource.adwordsClickInfo.adNetworkType':'adNetworkType',\n",
    "                         'trafficSource.adwordsClickInfo.gclId':'gclId',\n",
    "                         'trafficSource.adwordsClickInfo.isVideoAd':'isVideoAd',\n",
    "                         'trafficSource.adwordsClickInfo.page':'page',\n",
    "                         'trafficSource.adwordsClickInfo.slot':'slot', 'trafficSource.campaign':'campaign',\n",
    "                         'trafficSource.isTrueDirect':'istruedirect', 'trafficSource.keyword':'keyword',\n",
    "                         'trafficSource.medium':'medium', 'trafficSource.referralPath':'referalpath',\n",
    "                         'trafficSource.source':'source'}, inplace = True)"
   ]
  },
  {
   "cell_type": "code",
   "execution_count": 125,
   "metadata": {},
   "outputs": [
    {
     "data": {
      "text/html": [
       "<div>\n",
       "<style scoped>\n",
       "    .dataframe tbody tr th:only-of-type {\n",
       "        vertical-align: middle;\n",
       "    }\n",
       "\n",
       "    .dataframe tbody tr th {\n",
       "        vertical-align: top;\n",
       "    }\n",
       "\n",
       "    .dataframe thead th {\n",
       "        text-align: right;\n",
       "    }\n",
       "</style>\n",
       "<table border=\"1\" class=\"dataframe\">\n",
       "  <thead>\n",
       "    <tr style=\"text-align: right;\">\n",
       "      <th></th>\n",
       "      <th>channel</th>\n",
       "      <th>date</th>\n",
       "      <th>fullVisitorId</th>\n",
       "      <th>sessionId</th>\n",
       "      <th>visitId</th>\n",
       "      <th>visitNumber</th>\n",
       "      <th>visitStartTime</th>\n",
       "      <th>hits</th>\n",
       "      <th>newvisits</th>\n",
       "      <th>pageviews</th>\n",
       "      <th>...</th>\n",
       "      <th>gclId</th>\n",
       "      <th>isVideoAd</th>\n",
       "      <th>page</th>\n",
       "      <th>slot</th>\n",
       "      <th>campaign</th>\n",
       "      <th>istruedirect</th>\n",
       "      <th>keyword</th>\n",
       "      <th>medium</th>\n",
       "      <th>referalpath</th>\n",
       "      <th>source</th>\n",
       "    </tr>\n",
       "  </thead>\n",
       "  <tbody>\n",
       "    <tr>\n",
       "      <th>0</th>\n",
       "      <td>Direct</td>\n",
       "      <td>2016-09-02</td>\n",
       "      <td>6.194190e+18</td>\n",
       "      <td>6194193421514403509_1472843572</td>\n",
       "      <td>1472843572</td>\n",
       "      <td>1</td>\n",
       "      <td>1472843572</td>\n",
       "      <td>11</td>\n",
       "      <td>1.0</td>\n",
       "      <td>11</td>\n",
       "      <td>...</td>\n",
       "      <td>NaN</td>\n",
       "      <td>NaN</td>\n",
       "      <td>NaN</td>\n",
       "      <td>NaN</td>\n",
       "      <td>(not set)</td>\n",
       "      <td>True</td>\n",
       "      <td>NaN</td>\n",
       "      <td>(none)</td>\n",
       "      <td>NaN</td>\n",
       "      <td>(direct)</td>\n",
       "    </tr>\n",
       "    <tr>\n",
       "      <th>1</th>\n",
       "      <td>Organic Search</td>\n",
       "      <td>2016-09-02</td>\n",
       "      <td>5.327170e+18</td>\n",
       "      <td>5327166854580374902_1472844906</td>\n",
       "      <td>1472844906</td>\n",
       "      <td>3</td>\n",
       "      <td>1472844906</td>\n",
       "      <td>11</td>\n",
       "      <td>NaN</td>\n",
       "      <td>10</td>\n",
       "      <td>...</td>\n",
       "      <td>NaN</td>\n",
       "      <td>NaN</td>\n",
       "      <td>NaN</td>\n",
       "      <td>NaN</td>\n",
       "      <td>(not set)</td>\n",
       "      <td>True</td>\n",
       "      <td>(not provided)</td>\n",
       "      <td>organic</td>\n",
       "      <td>NaN</td>\n",
       "      <td>google</td>\n",
       "    </tr>\n",
       "    <tr>\n",
       "      <th>2</th>\n",
       "      <td>Referral</td>\n",
       "      <td>2016-09-02</td>\n",
       "      <td>8.885050e+18</td>\n",
       "      <td>8885051388942907862_1472827393</td>\n",
       "      <td>1472827393</td>\n",
       "      <td>7</td>\n",
       "      <td>1472827393</td>\n",
       "      <td>13</td>\n",
       "      <td>NaN</td>\n",
       "      <td>11</td>\n",
       "      <td>...</td>\n",
       "      <td>NaN</td>\n",
       "      <td>NaN</td>\n",
       "      <td>NaN</td>\n",
       "      <td>NaN</td>\n",
       "      <td>(not set)</td>\n",
       "      <td>True</td>\n",
       "      <td>NaN</td>\n",
       "      <td>referral</td>\n",
       "      <td>/</td>\n",
       "      <td>mall.googleplex.com</td>\n",
       "    </tr>\n",
       "    <tr>\n",
       "      <th>3</th>\n",
       "      <td>Referral</td>\n",
       "      <td>2016-09-02</td>\n",
       "      <td>1.854680e+17</td>\n",
       "      <td>0185467632009737931_1472846398</td>\n",
       "      <td>1472846398</td>\n",
       "      <td>6</td>\n",
       "      <td>1472846398</td>\n",
       "      <td>13</td>\n",
       "      <td>NaN</td>\n",
       "      <td>12</td>\n",
       "      <td>...</td>\n",
       "      <td>NaN</td>\n",
       "      <td>NaN</td>\n",
       "      <td>NaN</td>\n",
       "      <td>NaN</td>\n",
       "      <td>(not set)</td>\n",
       "      <td>True</td>\n",
       "      <td>NaN</td>\n",
       "      <td>referral</td>\n",
       "      <td>/</td>\n",
       "      <td>mall.googleplex.com</td>\n",
       "    </tr>\n",
       "    <tr>\n",
       "      <th>4</th>\n",
       "      <td>Referral</td>\n",
       "      <td>2016-09-02</td>\n",
       "      <td>3.244890e+18</td>\n",
       "      <td>3244885836845029978_1472824817</td>\n",
       "      <td>1472824817</td>\n",
       "      <td>4</td>\n",
       "      <td>1472824817</td>\n",
       "      <td>17</td>\n",
       "      <td>NaN</td>\n",
       "      <td>14</td>\n",
       "      <td>...</td>\n",
       "      <td>NaN</td>\n",
       "      <td>NaN</td>\n",
       "      <td>NaN</td>\n",
       "      <td>NaN</td>\n",
       "      <td>(not set)</td>\n",
       "      <td>True</td>\n",
       "      <td>NaN</td>\n",
       "      <td>referral</td>\n",
       "      <td>/</td>\n",
       "      <td>mall.googleplex.com</td>\n",
       "    </tr>\n",
       "  </tbody>\n",
       "</table>\n",
       "<p>5 rows × 35 columns</p>\n",
       "</div>"
      ],
      "text/plain": [
       "          channel        date  fullVisitorId                       sessionId  \\\n",
       "0          Direct  2016-09-02   6.194190e+18  6194193421514403509_1472843572   \n",
       "1  Organic Search  2016-09-02   5.327170e+18  5327166854580374902_1472844906   \n",
       "2        Referral  2016-09-02   8.885050e+18  8885051388942907862_1472827393   \n",
       "3        Referral  2016-09-02   1.854680e+17  0185467632009737931_1472846398   \n",
       "4        Referral  2016-09-02   3.244890e+18  3244885836845029978_1472824817   \n",
       "\n",
       "      visitId  visitNumber  visitStartTime  hits  newvisits  pageviews  \\\n",
       "0  1472843572            1      1472843572    11        1.0         11   \n",
       "1  1472844906            3      1472844906    11        NaN         10   \n",
       "2  1472827393            7      1472827393    13        NaN         11   \n",
       "3  1472846398            6      1472846398    13        NaN         12   \n",
       "4  1472824817            4      1472824817    17        NaN         14   \n",
       "\n",
       "          ...           gclId  isVideoAd page slot   campaign istruedirect  \\\n",
       "0         ...             NaN        NaN  NaN  NaN  (not set)         True   \n",
       "1         ...             NaN        NaN  NaN  NaN  (not set)         True   \n",
       "2         ...             NaN        NaN  NaN  NaN  (not set)         True   \n",
       "3         ...             NaN        NaN  NaN  NaN  (not set)         True   \n",
       "4         ...             NaN        NaN  NaN  NaN  (not set)         True   \n",
       "\n",
       "          keyword    medium referalpath               source  \n",
       "0             NaN    (none)         NaN             (direct)  \n",
       "1  (not provided)   organic         NaN               google  \n",
       "2             NaN  referral           /  mall.googleplex.com  \n",
       "3             NaN  referral           /  mall.googleplex.com  \n",
       "4             NaN  referral           /  mall.googleplex.com  \n",
       "\n",
       "[5 rows x 35 columns]"
      ]
     },
     "execution_count": 125,
     "metadata": {},
     "output_type": "execute_result"
    }
   ],
   "source": [
    "# look at the dataset after working on it\n",
    "df_part.head()"
   ]
  },
  {
   "cell_type": "code",
   "execution_count": 127,
   "metadata": {},
   "outputs": [
    {
     "data": {
      "text/plain": [
       "count    11515.000000\n",
       "mean         0.133745\n",
       "std          0.448285\n",
       "min          0.000010\n",
       "25%          0.024930\n",
       "50%          0.049450\n",
       "75%          0.107655\n",
       "max         23.129500\n",
       "Name: revenue(billions), dtype: float64"
      ]
     },
     "execution_count": 127,
     "metadata": {},
     "output_type": "execute_result"
    }
   ],
   "source": [
    "# convert revenue to float\n",
    "df_part['revenue'] = df_part['revenue'].astype(float)\n",
    "\n",
    "# convert revenue to billions by dividing each value by 10^9 to easily absorb and understand the numbers!\n",
    "df_part['revenue(billions)'] = df_part['revenue']/1000000000\n",
    "\n",
    "# find the min, max and average revenue in our data\n",
    "df_part['revenue(billions)'].describe()"
   ]
  },
  {
   "cell_type": "markdown",
   "metadata": {},
   "source": [
    "#### I will plot the categorical fields first, then the numerical ones to see how each feature affects the revenue  \n",
    "\n",
    "#### and then select the most effective features for the upcoming modeling"
   ]
  },
  {
   "cell_type": "markdown",
   "metadata": {},
   "source": [
    "1- `Channel`"
   ]
  },
  {
   "cell_type": "code",
   "execution_count": 216,
   "metadata": {},
   "outputs": [],
   "source": [
    "# group the data by revenue sum for each channel\n",
    "channel_grp = df_part.groupby('channel')['revenue(billions)'].sum()"
   ]
  },
  {
   "cell_type": "code",
   "execution_count": 147,
   "metadata": {},
   "outputs": [
    {
     "data": {
      "image/png": "[encoded data removed]",
      "text/plain": [
       "<Figure size 432x288 with 1 Axes>"
      ]
     },
     "metadata": {},
     "output_type": "display_data"
    }
   ],
   "source": [
    "# draw a pie chart of how much revenue earned through each channel\n",
    "labels = channel_grp.index\n",
    "sizes = channel_grp.values\n",
    "explode = (0.1,0.3,0,0,0,0,0.1,0.5)\n",
    "plt.pie(sizes, labels=labels, explode = explode, startangle = 90, autopct = '%1.0f%%')\n",
    "plt.title('Revenue in billions by channel')\n",
    "plt.axis('equal')\n",
    "plt.show()"
   ]
  },
  {
   "cell_type": "markdown",
   "metadata": {},
   "source": [
    "from above we can see that most revenue comes from `Referral` channel, then `Direct` and `Organic`"
   ]
  },
  {
   "cell_type": "markdown",
   "metadata": {},
   "source": [
    "2- `Date`"
   ]
  },
  {
   "cell_type": "code",
   "execution_count": 148,
   "metadata": {},
   "outputs": [
    {
     "data": {
      "text/plain": [
       "count          11515\n",
       "unique           365\n",
       "top       2016-12-16\n",
       "freq              87\n",
       "Name: date, dtype: object"
      ]
     },
     "execution_count": 148,
     "metadata": {},
     "output_type": "execute_result"
    }
   ],
   "source": [
    "# look at the `date` column\n",
    "df_part['date'].describe()"
   ]
  },
  {
   "cell_type": "markdown",
   "metadata": {},
   "source": [
    "there are 365 unique values in the `date` column, they can compose a whole year!"
   ]
  },
  {
   "cell_type": "code",
   "execution_count": 149,
   "metadata": {
    "scrolled": false
   },
   "outputs": [
    {
     "data": {
      "text/plain": [
       "('2016-08-01', '2017-08-01')"
      ]
     },
     "execution_count": 149,
     "metadata": {},
     "output_type": "execute_result"
    }
   ],
   "source": [
    "# look at the start date and the end date within our data ranges\n",
    "df_part['date'].min(), df_part['date'].max()"
   ]
  },
  {
   "cell_type": "markdown",
   "metadata": {},
   "source": [
    "Our data ranges within a full year. So, we can group them as quarters"
   ]
  },
  {
   "cell_type": "code",
   "execution_count": 150,
   "metadata": {},
   "outputs": [],
   "source": [
    "# group dates by sum of revenue on each day\n",
    "date_grp = df_part.groupby('date')['revenue(billions)'].sum()"
   ]
  },
  {
   "cell_type": "markdown",
   "metadata": {},
   "source": [
    "Let's plot the daily data first to see what we will have"
   ]
  },
  {
   "cell_type": "code",
   "execution_count": 210,
   "metadata": {},
   "outputs": [
    {
     "data": {
      "image/png": "[encoded data removed]",
      "text/plain": [
       "<Figure size 432x288 with 1 Axes>"
      ]
     },
     "metadata": {
      "needs_background": "light"
     },
     "output_type": "display_data"
    }
   ],
   "source": [
    "# plot the time series data\n",
    "x = date_grp.index\n",
    "y = date_grp.values\n",
    "plt.bar(x,y)\n",
    "plt.title('Revenue on a daily basis')\n",
    "plt.xlabel('Days')\n",
    "plt.ylabel('Revenue(in billions)')\n",
    "plt.show()"
   ]
  },
  {
   "cell_type": "markdown",
   "metadata": {},
   "source": [
    "Actually this is nice! But we need more descriptive plot to see further details  \n",
    "\n",
    "becase we can't see which day is generating which revenue indeed!"
   ]
  },
  {
   "cell_type": "code",
   "execution_count": 134,
   "metadata": {
    "scrolled": false
   },
   "outputs": [],
   "source": [
    "# divide the date into quarters of each year\n",
    "Qs = {'Q1':('01', '02', '03'), 'Q2':('04', '05', '06'), 'Q3':('07', '08', '09'), 'Q4':('10', '11', '12')}\n",
    "df_part['quarter'] = ''\n",
    "for i in range(len(df_part)):\n",
    "    if df_part['date'][i][5:7] in Qs['Q1'] and df_part['date'][i][2:4] == '16':\n",
    "        df_part['quarter'][i] = 'Q1_16'\n",
    "    elif df_part['date'][i][5:7] in Qs['Q2'] and df_part['date'][i][2:4] == '16':\n",
    "        df_part['quarter'][i] = 'Q2_16'\n",
    "    elif df_part['date'][i][5:7] in Qs['Q3'] and df_part['date'][i][2:4] == '16':\n",
    "        df_part['quarter'][i] = 'Q3_16'    \n",
    "    elif df_part['date'][i][5:7] in Qs['Q4'] and df_part['date'][i][2:4] == '16':\n",
    "        df_part['quarter'][i] = 'Q4_16'    \n",
    "    elif df_part['date'][i][5:7] in Qs['Q1'] and df_part['date'][i][2:4] == '17':\n",
    "        df_part['quarter'][i] = 'Q1_17'\n",
    "    elif df_part['date'][i][5:7] in Qs['Q2'] and df_part['date'][i][2:4] == '17':\n",
    "        df_part['quarter'][i] = 'Q2_17'\n",
    "    elif df_part['date'][i][5:7] in Qs['Q3'] and df_part['date'][i][2:4] == '17':\n",
    "        df_part['quarter'][i] = 'Q3_17'    \n",
    "    elif df_part['date'][i][5:7] in Qs['Q4'] and df_part['date'][i][2:4] == '17':\n",
    "        df_part['quarter'][i] = 'Q4_17'    "
   ]
  },
  {
   "cell_type": "code",
   "execution_count": 215,
   "metadata": {},
   "outputs": [],
   "source": [
    "# group quarters by sum of revenue on each day\n",
    "q_grp = df_part.groupby('quarter')['revenue(billions)'].sum()"
   ]
  },
  {
   "cell_type": "markdown",
   "metadata": {},
   "source": [
    "Now we will plot the data based on quarters of the year to look more deep"
   ]
  },
  {
   "cell_type": "code",
   "execution_count": 153,
   "metadata": {},
   "outputs": [
    {
     "data": {
      "image/png": "[encoded data removed]",
      "text/plain": [
       "<Figure size 432x288 with 1 Axes>"
      ]
     },
     "metadata": {
      "needs_background": "light"
     },
     "output_type": "display_data"
    }
   ],
   "source": [
    "# plot the sorted quarter-based data \n",
    "q_grp_sort = {'Q3_16': 280.69780, 'Q4_16': 386.90087, 'Q1_17': 337.59858, 'Q2_17': 402.06977, 'Q3_17': 132.80422}\n",
    "x = q_grp_sort.keys()\n",
    "y = q_grp_sort.values()\n",
    "plt.xlabel('Quarters by year')\n",
    "plt.ylabel('Revenue in billions')\n",
    "plt.title('Revenue by quarter of year')\n",
    "plt.bar(x,y)\n",
    "plt.show()"
   ]
  },
  {
   "cell_type": "markdown",
   "metadata": {},
   "source": [
    "Well, our data ranges from 8-2016 to 8-2017. \n",
    "\n",
    "So,\n",
    "Q3_16 have the combined data of months 8, 9 of the year 2016 (that's a two months period!)\n",
    "\n",
    "Q4_16 have the combined data of months 10, 11, 12 of the year 2016 \n",
    "\n",
    "Q1_17 have the combined data of months 1, 2, 3 of the year 2017 \n",
    "\n",
    "Q2_17 have the combined data of months 4, 5, 6 of the year 2017 \n",
    "\n",
    "Q3_17 have the combined data of months 7, 8 of the year 2017 (that's a two months period too!)\n",
    "\n",
    "So I think the plot is reasonable and the data is normally distributed within the year"
   ]
  },
  {
   "cell_type": "code",
   "execution_count": 218,
   "metadata": {},
   "outputs": [],
   "source": [
    "# define important columns for the analysis and less important ones\n",
    "# COMMENT THIS CELL\n",
    "hot_cols = ['channel', 'date', 'hits', 'newvisits', 'pageviews', 'revenue(billions)',\n",
    "            'visits', 'browser', 'devicecategory', 'ismobile', 'os', 'city', 'continent',\n",
    "            'country', 'metro', 'networkdomain', 'region', 'subcontinent', 'campaign',\n",
    "            'medium', 'source', 'quarter']\n",
    "\n",
    "cold_cols = ['fullVisitorId', 'sessionId', 'visitId', 'visitNumber', \n",
    "             'visitStartTime','adContent', 'adNetworkType', 'gclId',\n",
    "             'isVideoAd', 'page', 'slot','istruedirect', 'keyword','referalpath']"
   ]
  },
  {
   "cell_type": "code",
   "execution_count": 219,
   "metadata": {},
   "outputs": [
    {
     "data": {
      "text/html": [
       "<div>\n",
       "<style scoped>\n",
       "    .dataframe tbody tr th:only-of-type {\n",
       "        vertical-align: middle;\n",
       "    }\n",
       "\n",
       "    .dataframe tbody tr th {\n",
       "        vertical-align: top;\n",
       "    }\n",
       "\n",
       "    .dataframe thead th {\n",
       "        text-align: right;\n",
       "    }\n",
       "</style>\n",
       "<table border=\"1\" class=\"dataframe\">\n",
       "  <thead>\n",
       "    <tr style=\"text-align: right;\">\n",
       "      <th></th>\n",
       "      <th>channel</th>\n",
       "      <th>date</th>\n",
       "      <th>hits</th>\n",
       "      <th>newvisits</th>\n",
       "      <th>pageviews</th>\n",
       "      <th>revenue(billions)</th>\n",
       "      <th>visits</th>\n",
       "      <th>browser</th>\n",
       "      <th>devicecategory</th>\n",
       "      <th>ismobile</th>\n",
       "      <th>...</th>\n",
       "      <th>continent</th>\n",
       "      <th>country</th>\n",
       "      <th>metro</th>\n",
       "      <th>networkdomain</th>\n",
       "      <th>region</th>\n",
       "      <th>subcontinent</th>\n",
       "      <th>campaign</th>\n",
       "      <th>medium</th>\n",
       "      <th>source</th>\n",
       "      <th>quarter</th>\n",
       "    </tr>\n",
       "  </thead>\n",
       "  <tbody>\n",
       "    <tr>\n",
       "      <th>11510</th>\n",
       "      <td>Referral</td>\n",
       "      <td>2017-01-04</td>\n",
       "      <td>61</td>\n",
       "      <td>NaN</td>\n",
       "      <td>48</td>\n",
       "      <td>0.33526</td>\n",
       "      <td>1</td>\n",
       "      <td>Chrome</td>\n",
       "      <td>desktop</td>\n",
       "      <td>False</td>\n",
       "      <td>...</td>\n",
       "      <td>Americas</td>\n",
       "      <td>United States</td>\n",
       "      <td>New York NY</td>\n",
       "      <td>(not set)</td>\n",
       "      <td>New York</td>\n",
       "      <td>Northern America</td>\n",
       "      <td>(not set)</td>\n",
       "      <td>referral</td>\n",
       "      <td>mall.googleplex.com</td>\n",
       "      <td>Q1_17</td>\n",
       "    </tr>\n",
       "    <tr>\n",
       "      <th>11511</th>\n",
       "      <td>Referral</td>\n",
       "      <td>2017-01-04</td>\n",
       "      <td>66</td>\n",
       "      <td>NaN</td>\n",
       "      <td>30</td>\n",
       "      <td>0.59995</td>\n",
       "      <td>1</td>\n",
       "      <td>Chrome</td>\n",
       "      <td>desktop</td>\n",
       "      <td>False</td>\n",
       "      <td>...</td>\n",
       "      <td>Americas</td>\n",
       "      <td>United States</td>\n",
       "      <td>Austin TX</td>\n",
       "      <td>(not set)</td>\n",
       "      <td>Texas</td>\n",
       "      <td>Northern America</td>\n",
       "      <td>(not set)</td>\n",
       "      <td>referral</td>\n",
       "      <td>mall.googleplex.com</td>\n",
       "      <td>Q1_17</td>\n",
       "    </tr>\n",
       "    <tr>\n",
       "      <th>11512</th>\n",
       "      <td>Referral</td>\n",
       "      <td>2017-01-04</td>\n",
       "      <td>122</td>\n",
       "      <td>1.0</td>\n",
       "      <td>90</td>\n",
       "      <td>0.03075</td>\n",
       "      <td>1</td>\n",
       "      <td>Chrome</td>\n",
       "      <td>desktop</td>\n",
       "      <td>False</td>\n",
       "      <td>...</td>\n",
       "      <td>Asia</td>\n",
       "      <td>South Korea</td>\n",
       "      <td>(not set)</td>\n",
       "      <td>(not set)</td>\n",
       "      <td>Seoul</td>\n",
       "      <td>Eastern Asia</td>\n",
       "      <td>(not set)</td>\n",
       "      <td>referral</td>\n",
       "      <td>mall.googleplex.com</td>\n",
       "      <td>Q1_17</td>\n",
       "    </tr>\n",
       "    <tr>\n",
       "      <th>11513</th>\n",
       "      <td>Direct</td>\n",
       "      <td>2017-01-04</td>\n",
       "      <td>130</td>\n",
       "      <td>NaN</td>\n",
       "      <td>90</td>\n",
       "      <td>0.06939</td>\n",
       "      <td>1</td>\n",
       "      <td>Firefox</td>\n",
       "      <td>desktop</td>\n",
       "      <td>False</td>\n",
       "      <td>...</td>\n",
       "      <td>Americas</td>\n",
       "      <td>United States</td>\n",
       "      <td>New York NY</td>\n",
       "      <td>optonline.net</td>\n",
       "      <td>New York</td>\n",
       "      <td>Northern America</td>\n",
       "      <td>(not set)</td>\n",
       "      <td>(none)</td>\n",
       "      <td>(direct)</td>\n",
       "      <td>Q1_17</td>\n",
       "    </tr>\n",
       "    <tr>\n",
       "      <th>11514</th>\n",
       "      <td>Direct</td>\n",
       "      <td>2017-01-04</td>\n",
       "      <td>237</td>\n",
       "      <td>NaN</td>\n",
       "      <td>169</td>\n",
       "      <td>0.07499</td>\n",
       "      <td>1</td>\n",
       "      <td>Chrome</td>\n",
       "      <td>mobile</td>\n",
       "      <td>True</td>\n",
       "      <td>...</td>\n",
       "      <td>Americas</td>\n",
       "      <td>United States</td>\n",
       "      <td>not available in demo dataset</td>\n",
       "      <td>(not set)</td>\n",
       "      <td>not available in demo dataset</td>\n",
       "      <td>Northern America</td>\n",
       "      <td>(not set)</td>\n",
       "      <td>(none)</td>\n",
       "      <td>(direct)</td>\n",
       "      <td>Q1_17</td>\n",
       "    </tr>\n",
       "  </tbody>\n",
       "</table>\n",
       "<p>5 rows × 22 columns</p>\n",
       "</div>"
      ],
      "text/plain": [
       "        channel        date  hits  newvisits  pageviews  revenue(billions)  \\\n",
       "11510  Referral  2017-01-04    61        NaN         48            0.33526   \n",
       "11511  Referral  2017-01-04    66        NaN         30            0.59995   \n",
       "11512  Referral  2017-01-04   122        1.0         90            0.03075   \n",
       "11513    Direct  2017-01-04   130        NaN         90            0.06939   \n",
       "11514    Direct  2017-01-04   237        NaN        169            0.07499   \n",
       "\n",
       "       visits  browser devicecategory  ismobile   ...   continent  \\\n",
       "11510       1   Chrome        desktop     False   ...    Americas   \n",
       "11511       1   Chrome        desktop     False   ...    Americas   \n",
       "11512       1   Chrome        desktop     False   ...        Asia   \n",
       "11513       1  Firefox        desktop     False   ...    Americas   \n",
       "11514       1   Chrome         mobile      True   ...    Americas   \n",
       "\n",
       "             country                          metro  networkdomain  \\\n",
       "11510  United States                    New York NY      (not set)   \n",
       "11511  United States                      Austin TX      (not set)   \n",
       "11512    South Korea                      (not set)      (not set)   \n",
       "11513  United States                    New York NY  optonline.net   \n",
       "11514  United States  not available in demo dataset      (not set)   \n",
       "\n",
       "                              region      subcontinent   campaign    medium  \\\n",
       "11510                       New York  Northern America  (not set)  referral   \n",
       "11511                          Texas  Northern America  (not set)  referral   \n",
       "11512                          Seoul      Eastern Asia  (not set)  referral   \n",
       "11513                       New York  Northern America  (not set)    (none)   \n",
       "11514  not available in demo dataset  Northern America  (not set)    (none)   \n",
       "\n",
       "                    source quarter  \n",
       "11510  mall.googleplex.com   Q1_17  \n",
       "11511  mall.googleplex.com   Q1_17  \n",
       "11512  mall.googleplex.com   Q1_17  \n",
       "11513             (direct)   Q1_17  \n",
       "11514             (direct)   Q1_17  \n",
       "\n",
       "[5 rows x 22 columns]"
      ]
     },
     "execution_count": 219,
     "metadata": {},
     "output_type": "execute_result"
    }
   ],
   "source": [
    "# COMMENT THIS CELL\n",
    "df_part[hot_cols].tail()"
   ]
  },
  {
   "cell_type": "markdown",
   "metadata": {},
   "source": [
    "3- `Browser`"
   ]
  },
  {
   "cell_type": "code",
   "execution_count": 160,
   "metadata": {},
   "outputs": [],
   "source": [
    "# group data by browser and revenue sum\n",
    "browse_grp = df_part.groupby('browser')['revenue(billions)'].sum()"
   ]
  },
  {
   "cell_type": "code",
   "execution_count": 166,
   "metadata": {},
   "outputs": [
    {
     "data": {
      "image/png": "[encoded data removed]",
      "text/plain": [
       "<Figure size 432x288 with 1 Axes>"
      ]
     },
     "metadata": {
      "needs_background": "light"
     },
     "output_type": "display_data"
    }
   ],
   "source": [
    "# plot sum of revenue in billions based on which browser used for generating that revenue\n",
    "x = browse_grp.index\n",
    "y = browse_grp.values\n",
    "plt.xlabel('Browsers')\n",
    "plt.ylabel('Revenue in billions')\n",
    "plt.title('Revenue by browser')\n",
    "plt.bar(x,y)\n",
    "plt.xticks(rotation = 90)\n",
    "plt.show()"
   ]
  },
  {
   "cell_type": "markdown",
   "metadata": {},
   "source": [
    "Looks like `Chrome` dominates the revenue genearation with huge difference ahead of the nearest opponent, `Firfox`!"
   ]
  },
  {
   "cell_type": "markdown",
   "metadata": {},
   "source": [
    "4- `Device Category`"
   ]
  },
  {
   "cell_type": "code",
   "execution_count": 222,
   "metadata": {},
   "outputs": [],
   "source": [
    "# group data by device category and revenue sum\n",
    "dvc_grp = df_part.groupby('devicecategory')['revenue(billions)'].sum()"
   ]
  },
  {
   "cell_type": "code",
   "execution_count": 223,
   "metadata": {},
   "outputs": [
    {
     "data": {
      "image/png": "[encoded data removed]",
      "text/plain": [
       "<Figure size 432x288 with 1 Axes>"
      ]
     },
     "metadata": {
      "needs_background": "light"
     },
     "output_type": "display_data"
    }
   ],
   "source": [
    "# plot sum of revenue in billions based on which device used for generating that revenue\n",
    "x = dvc_grp.index\n",
    "y = dvc_grp.values\n",
    "plt.xlabel('Device Category')\n",
    "plt.ylabel('Revenue in billions')\n",
    "plt.title('Revenue by device')\n",
    "plt.bar(x,y)\n",
    "plt.xticks(rotation = 90)\n",
    "plt.show()"
   ]
  },
  {
   "cell_type": "markdown",
   "metadata": {},
   "source": [
    "Most revenue comes from `Desktop` devices like PCs and laptops"
   ]
  },
  {
   "cell_type": "markdown",
   "metadata": {},
   "source": [
    "5- `OS`"
   ]
  },
  {
   "cell_type": "code",
   "execution_count": 211,
   "metadata": {},
   "outputs": [],
   "source": [
    "# group revenue sum by operating system\n",
    "os_grp = df_part.groupby('os')['revenue(billions)'].sum()"
   ]
  },
  {
   "cell_type": "code",
   "execution_count": 212,
   "metadata": {},
   "outputs": [
    {
     "data": {
      "image/png": "[encoded data removed]",
      "text/plain": [
       "<Figure size 432x288 with 1 Axes>"
      ]
     },
     "metadata": {
      "needs_background": "light"
     },
     "output_type": "display_data"
    }
   ],
   "source": [
    "# plot sum of revenue in billions based on which operating system used for generating that revenue\n",
    "x = os_grp.index\n",
    "y = os_grp.values\n",
    "plt.xlabel('Operating Systems')\n",
    "plt.ylabel('Revenue in billions')\n",
    "plt.title('Revenue by operating system')\n",
    "plt.bar(x,y)\n",
    "plt.xticks(rotation = 90)\n",
    "plt.show()"
   ]
  },
  {
   "cell_type": "markdown",
   "metadata": {},
   "source": [
    "`Mac` topples the list of revenue ahead of `Windows`"
   ]
  },
  {
   "cell_type": "markdown",
   "metadata": {},
   "source": [
    "6- `Continent`"
   ]
  },
  {
   "cell_type": "code",
   "execution_count": 234,
   "metadata": {},
   "outputs": [],
   "source": [
    "# group data by continent and revenue sum\n",
    "cont_grp = df_part.groupby('continent')['revenue(billions)'].sum()"
   ]
  },
  {
   "cell_type": "code",
   "execution_count": 235,
   "metadata": {},
   "outputs": [
    {
     "data": {
      "image/png": "[encoded data removed]",
      "text/plain": [
       "<Figure size 432x288 with 1 Axes>"
      ]
     },
     "metadata": {
      "needs_background": "light"
     },
     "output_type": "display_data"
    }
   ],
   "source": [
    "# plot sum of revenue in billions based on continent\n",
    "x = cont_grp.index\n",
    "y = cont_grp.values\n",
    "plt.xlabel('Continents')\n",
    "plt.ylabel('Revenue in billions')\n",
    "plt.title('Revenue by continent')\n",
    "plt.bar(x,y)\n",
    "plt.xticks(rotation = 90)\n",
    "plt.show()"
   ]
  },
  {
   "cell_type": "markdown",
   "metadata": {},
   "source": [
    "Almost all the revenue comes from the `Americas`"
   ]
  },
  {
   "cell_type": "markdown",
   "metadata": {},
   "source": [
    "7- `Metro`"
   ]
  },
  {
   "cell_type": "code",
   "execution_count": 240,
   "metadata": {},
   "outputs": [],
   "source": [
    "# group data by metroplitan and revenue sum\n",
    "metro_grp = df_part.groupby('metro')['revenue(billions)'].sum()"
   ]
  },
  {
   "cell_type": "code",
   "execution_count": 265,
   "metadata": {},
   "outputs": [
    {
     "data": {
      "image/png": "[encoded data removed]",
      "text/plain": [
       "<Figure size 432x288 with 1 Axes>"
      ]
     },
     "metadata": {
      "needs_background": "light"
     },
     "output_type": "display_data"
    }
   ],
   "source": [
    "# plot sum of revenue in billions based on metro\n",
    "x = metro_grp.index\n",
    "y = metro_grp.values\n",
    "plt.xlabel('Metros ')\n",
    "plt.ylabel('Revenue in billions')\n",
    "plt.title('Revenue by metro')\n",
    "plt.plot(x,y)\n",
    "plt.xticks(rotation = 45)\n",
    "plt.show()"
   ]
  },
  {
   "cell_type": "markdown",
   "metadata": {},
   "source": [
    "8- `Sub continent`"
   ]
  },
  {
   "cell_type": "code",
   "execution_count": 248,
   "metadata": {},
   "outputs": [],
   "source": [
    "# group data by sub continent and revenue sum\n",
    "sub_grp = df_part.groupby('subcontinent')['revenue(billions)'].sum()"
   ]
  },
  {
   "cell_type": "code",
   "execution_count": 251,
   "metadata": {},
   "outputs": [
    {
     "data": {
      "image/png": "[encoded data removed]",
      "text/plain": [
       "<Figure size 432x288 with 1 Axes>"
      ]
     },
     "metadata": {
      "needs_background": "light"
     },
     "output_type": "display_data"
    }
   ],
   "source": [
    "# plot sum of revenue in billions based on sub continent\n",
    "x = sub_grp.index\n",
    "y = sub_grp.values\n",
    "plt.xlabel('Sub continents')\n",
    "plt.ylabel('Revenue in billions')\n",
    "plt.title('Revenue by sub continent')\n",
    "plt.bar(x,y)\n",
    "plt.xticks(rotation = 90)\n",
    "plt.show()"
   ]
  },
  {
   "cell_type": "markdown",
   "metadata": {},
   "source": [
    "9- `Campaign`"
   ]
  },
  {
   "cell_type": "code",
   "execution_count": 253,
   "metadata": {},
   "outputs": [],
   "source": [
    "# group data by campaign and revenue sum\n",
    "camp_grp = df_part.groupby('campaign')['revenue(billions)'].sum()"
   ]
  },
  {
   "cell_type": "code",
   "execution_count": 255,
   "metadata": {},
   "outputs": [
    {
     "data": {
      "image/png": "[encoded data removed]",
      "text/plain": [
       "<Figure size 432x288 with 1 Axes>"
      ]
     },
     "metadata": {
      "needs_background": "light"
     },
     "output_type": "display_data"
    }
   ],
   "source": [
    "# plot sum of revenue in billions based on Campaign\n",
    "x = camp_grp.index\n",
    "y = camp_grp.values\n",
    "plt.xlabel('Campaigns')\n",
    "plt.ylabel('Revenue in billions')\n",
    "plt.title('Revenue by campaign')\n",
    "plt.bar(x,y)\n",
    "plt.xticks(rotation = 90)\n",
    "plt.show()"
   ]
  },
  {
   "cell_type": "markdown",
   "metadata": {},
   "source": [
    "10- `Medium`"
   ]
  },
  {
   "cell_type": "code",
   "execution_count": 257,
   "metadata": {},
   "outputs": [],
   "source": [
    "# group data by medium and revenue sum\n",
    "med_grp = df_part.groupby('medium')['revenue(billions)'].sum()"
   ]
  },
  {
   "cell_type": "code",
   "execution_count": 259,
   "metadata": {},
   "outputs": [
    {
     "data": {
      "image/png": "[encoded data removed]",
      "text/plain": [
       "<Figure size 432x288 with 1 Axes>"
      ]
     },
     "metadata": {
      "needs_background": "light"
     },
     "output_type": "display_data"
    }
   ],
   "source": [
    "# plot sum of revenue in billions based on medium\n",
    "x = med_grp.index\n",
    "y = med_grp.values\n",
    "plt.xlabel('Medium')\n",
    "plt.ylabel('Revenue in billions')\n",
    "plt.title('Revenue by medium')\n",
    "plt.bar(x,y)\n",
    "plt.xticks(rotation = 90)\n",
    "plt.show()"
   ]
  },
  {
   "cell_type": "markdown",
   "metadata": {},
   "source": [
    "11- `Source`"
   ]
  },
  {
   "cell_type": "code",
   "execution_count": 260,
   "metadata": {},
   "outputs": [],
   "source": [
    "# group data by source and revenue sum\n",
    "src_grp = df_part.groupby('source')['revenue(billions)'].sum()"
   ]
  },
  {
   "cell_type": "code",
   "execution_count": 262,
   "metadata": {},
   "outputs": [
    {
     "data": {
      "image/png": "[encoded data removed]",
      "text/plain": [
       "<Figure size 432x288 with 1 Axes>"
      ]
     },
     "metadata": {
      "needs_background": "light"
     },
     "output_type": "display_data"
    }
   ],
   "source": [
    "# plot sum of revenue in billions based on source\n",
    "x = src_grp.index\n",
    "y = src_grp.values\n",
    "plt.xlabel('Source')\n",
    "plt.ylabel('Revenue in billions')\n",
    "plt.title('Revenue by source')\n",
    "plt.bar(x,y)\n",
    "plt.xticks(rotation = 90)\n",
    "plt.show()"
   ]
  },
  {
   "cell_type": "markdown",
   "metadata": {},
   "source": [
    "12-`Page Views`"
   ]
  },
  {
   "cell_type": "code",
   "execution_count": 266,
   "metadata": {},
   "outputs": [],
   "source": [
    "# group data by page views and revenue sum\n",
    "pg_grp = df_part.groupby('pageviews')['revenue(billions)'].sum()"
   ]
  },
  {
   "cell_type": "code",
   "execution_count": 267,
   "metadata": {},
   "outputs": [
    {
     "data": {
      "image/png": "[encoded data removed]",
      "text/plain": [
       "<Figure size 432x288 with 1 Axes>"
      ]
     },
     "metadata": {
      "needs_background": "light"
     },
     "output_type": "display_data"
    }
   ],
   "source": [
    "# plot sum of revenue in billions based on which browser used for generating that revenue\n",
    "x = pg_grp.index\n",
    "y = pg_grp.values\n",
    "plt.xlabel('Page views ')\n",
    "plt.ylabel('Revenue in billions')\n",
    "plt.title('Revenue by page view')\n",
    "plt.plot(x,y)\n",
    "plt.xticks(rotation = 90)\n",
    "plt.show()"
   ]
  },
  {
   "cell_type": "markdown",
   "metadata": {},
   "source": [
    "13- `Hits`"
   ]
  },
  {
   "cell_type": "code",
   "execution_count": 268,
   "metadata": {},
   "outputs": [],
   "source": [
    "# group data by hits and revenue sum\n",
    "hit_grp = df_part.groupby('hits')['revenue(billions)'].sum()"
   ]
  },
  {
   "cell_type": "code",
   "execution_count": 269,
   "metadata": {},
   "outputs": [
    {
     "data": {
      "image/png": "[encoded data removed]",
      "text/plain": [
       "<Figure size 432x288 with 1 Axes>"
      ]
     },
     "metadata": {
      "needs_background": "light"
     },
     "output_type": "display_data"
    }
   ],
   "source": [
    "# plot sum of revenue in billions based on which browser used for generating that revenue\n",
    "x = hit_grp.index\n",
    "y = hit_grp.values\n",
    "plt.xlabel('Hits ')\n",
    "plt.ylabel('Revenue in billions')\n",
    "plt.title('Revenue by hits')\n",
    "plt.scatter(x,y)\n",
    "plt.xticks(rotation = 90)\n",
    "plt.show()"
   ]
  },
  {
   "cell_type": "code",
   "execution_count": null,
   "metadata": {},
   "outputs": [],
   "source": []
  }
 ],
 "metadata": {
  "kernelspec": {
   "display_name": "Python 3",
   "language": "python",
   "name": "python3"
  },
  "language_info": {
   "codemirror_mode": {
    "name": "ipython",
    "version": 3
   },
   "file_extension": ".py",
   "mimetype": "text/x-python",
   "name": "python",
   "nbconvert_exporter": "python",
   "pygments_lexer": "ipython3",
   "version": "3.6.7"
  }
 },
 "nbformat": 4,
 "nbformat_minor": 2
}
