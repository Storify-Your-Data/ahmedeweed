{
 "cells": [
  {
   "cell_type": "markdown",
   "metadata": {},
   "source": [
    "\n",
    "## Google analytics customer revenue predictions\n",
    "### By Ahmed Eweed  \n",
    "\n",
    "### You can find me on github at [github.com/AhmedEweed](https://github.com/AhmedEweed)"
   ]
  },
  {
   "cell_type": "markdown",
   "metadata": {},
   "source": [
    "    I re approached the dataset as I exploed it in many ways\n",
    "    and this version is the updated version of my exploration"
   ]
  },
  {
   "cell_type": "code",
   "execution_count": 17,
   "metadata": {},
   "outputs": [],
   "source": [
    "#import needed libraries\n",
    "import pandas as pd\n",
    "from pandas.io.json import json_normalize\n",
    "\n",
    "#let's group JSON columns to work on them together\n",
    "JSON_cols = ['device', 'geoNetwork', 'totals', 'trafficSource']\n",
    "\n",
    "#read data \n",
    "# I solved the mixed datatype problem in column 3 'fullVisitorId' by defining it to be string \n",
    "# that should stop the warning message.\n",
    "\n",
    "# also I lowered down the number of rows displyed to 10k\n",
    "# as I faced memory issues handling the whole 900k entries!\n",
    "\n",
    "df = pd.read_csv(\"../train.csv\", \n",
    "                     converters={column: json.loads for column in JSON_cols}, \n",
    "                     dtype={'fullVisitorId': 'str'}, nrows = 10000)\n",
    "\n",
    "# we will make a copy of the dataset to work on and clean \n",
    "df_copy = df.copy()\n",
    "\n",
    "# flatten json columns into table values\n",
    "for column in JSON_cols:\n",
    "    column_as_df = json_normalize(df_copy[column])\n",
    "    column_as_df.columns = [f\"{column}.{subcolumn}\" for subcolumn in column_as_df.columns]\n",
    "    df_copy = df_copy.drop(column, axis=1).merge(column_as_df, right_index=True, left_index=True)"
   ]
  },
  {
   "cell_type": "code",
   "execution_count": 18,
   "metadata": {},
   "outputs": [
    {
     "name": "stdout",
     "output_type": "stream",
     "text": [
      "<class 'pandas.core.frame.DataFrame'>\n",
      "RangeIndex: 10000 entries, 0 to 9999\n",
      "Data columns (total 54 columns):\n",
      "channelGrouping                                      10000 non-null object\n",
      "date                                                 10000 non-null int64\n",
      "fullVisitorId                                        10000 non-null object\n",
      "sessionId                                            10000 non-null object\n",
      "socialEngagementType                                 10000 non-null object\n",
      "visitId                                              10000 non-null int64\n",
      "visitNumber                                          10000 non-null int64\n",
      "visitStartTime                                       10000 non-null int64\n",
      "device.browser                                       10000 non-null object\n",
      "device.browserSize                                   10000 non-null object\n",
      "device.browserVersion                                10000 non-null object\n",
      "device.deviceCategory                                10000 non-null object\n",
      "device.flashVersion                                  10000 non-null object\n",
      "device.isMobile                                      10000 non-null bool\n",
      "device.language                                      10000 non-null object\n",
      "device.mobileDeviceBranding                          10000 non-null object\n",
      "device.mobileDeviceInfo                              10000 non-null object\n",
      "device.mobileDeviceMarketingName                     10000 non-null object\n",
      "device.mobileDeviceModel                             10000 non-null object\n",
      "device.mobileInputSelector                           10000 non-null object\n",
      "device.operatingSystem                               10000 non-null object\n",
      "device.operatingSystemVersion                        10000 non-null object\n",
      "device.screenColors                                  10000 non-null object\n",
      "device.screenResolution                              10000 non-null object\n",
      "geoNetwork.city                                      10000 non-null object\n",
      "geoNetwork.cityId                                    10000 non-null object\n",
      "geoNetwork.continent                                 10000 non-null object\n",
      "geoNetwork.country                                   10000 non-null object\n",
      "geoNetwork.latitude                                  10000 non-null object\n",
      "geoNetwork.longitude                                 10000 non-null object\n",
      "geoNetwork.metro                                     10000 non-null object\n",
      "geoNetwork.networkDomain                             10000 non-null object\n",
      "geoNetwork.networkLocation                           10000 non-null object\n",
      "geoNetwork.region                                    10000 non-null object\n",
      "geoNetwork.subContinent                              10000 non-null object\n",
      "totals.bounces                                       5318 non-null object\n",
      "totals.hits                                          10000 non-null object\n",
      "totals.newVisits                                     7701 non-null object\n",
      "totals.pageviews                                     10000 non-null object\n",
      "totals.transactionRevenue                            91 non-null object\n",
      "totals.visits                                        10000 non-null object\n",
      "trafficSource.adContent                              151 non-null object\n",
      "trafficSource.adwordsClickInfo.adNetworkType         250 non-null object\n",
      "trafficSource.adwordsClickInfo.criteriaParameters    10000 non-null object\n",
      "trafficSource.adwordsClickInfo.gclId                 253 non-null object\n",
      "trafficSource.adwordsClickInfo.isVideoAd             250 non-null object\n",
      "trafficSource.adwordsClickInfo.page                  250 non-null object\n",
      "trafficSource.adwordsClickInfo.slot                  250 non-null object\n",
      "trafficSource.campaign                               10000 non-null object\n",
      "trafficSource.isTrueDirect                           3179 non-null object\n",
      "trafficSource.keyword                                5004 non-null object\n",
      "trafficSource.medium                                 10000 non-null object\n",
      "trafficSource.referralPath                           3041 non-null object\n",
      "trafficSource.source                                 10000 non-null object\n",
      "dtypes: bool(1), int64(4), object(49)\n",
      "memory usage: 2.2+ MB\n"
     ]
    }
   ],
   "source": [
    "#look at dataset dimensions\n",
    "\n",
    "df_copy.info()"
   ]
  },
  {
   "cell_type": "markdown",
   "metadata": {},
   "source": [
    "    the dataset has 10k rows and 54 columns\n",
    "    8 of those columns are strings and 4 are numbers or so says the dataset\n",
    "    we have 4 columns that contain json data ('device', 'geoNetwork', 'totals', 'trafficSource' )\n",
    "    let's have a deeper look at each column's data!"
   ]
  },
  {
   "cell_type": "code",
   "execution_count": 24,
   "metadata": {},
   "outputs": [
    {
     "data": {
      "text/plain": [
       "30390000      2\n",
       "25000000      2\n",
       "44790000      2\n",
       "10990000      2\n",
       "13590000      2\n",
       "11960000      1\n",
       "63840000      1\n",
       "105120000     1\n",
       "1077000000    1\n",
       "24080000      1\n",
       "21020000      1\n",
       "305470000     1\n",
       "19990000      1\n",
       "37960000      1\n",
       "43710000      1\n",
       "8980000       1\n",
       "31930000      1\n",
       "298760000     1\n",
       "34480000      1\n",
       "244040000     1\n",
       "95970000      1\n",
       "6990000       1\n",
       "80760000      1\n",
       "31980000      1\n",
       "8380000       1\n",
       "57570000      1\n",
       "16990000      1\n",
       "574150000     1\n",
       "335310000     1\n",
       "7990000       1\n",
       "             ..\n",
       "90850000      1\n",
       "546320000     1\n",
       "74590000      1\n",
       "35480000      1\n",
       "259370000     1\n",
       "173880000     1\n",
       "13290000      1\n",
       "15190000      1\n",
       "35080000      1\n",
       "1990000       1\n",
       "31490000      1\n",
       "139650000     1\n",
       "79990000      1\n",
       "111160000     1\n",
       "264790000     1\n",
       "339030000     1\n",
       "33670000      1\n",
       "9980000       1\n",
       "17590000      1\n",
       "306670000     1\n",
       "300350000     1\n",
       "109150000     1\n",
       "113520000     1\n",
       "16970000      1\n",
       "117340000     1\n",
       "7480000       1\n",
       "593910000     1\n",
       "10590000      1\n",
       "33980000      1\n",
       "64700000      1\n",
       "Name: totals.transactionRevenue, Length: 86, dtype: int64"
      ]
     },
     "execution_count": 24,
     "metadata": {},
     "output_type": "execute_result"
    }
   ],
   "source": [
    "df_copy['totals.transactionRevenue'].value_counts()"
   ]
  },
  {
   "cell_type": "code",
   "execution_count": 25,
   "metadata": {},
   "outputs": [
    {
     "data": {
      "text/plain": [
       "Organic Search    4730\n",
       "Social            1851\n",
       "Direct            1645\n",
       "Referral          1190\n",
       "Paid Search        314\n",
       "Affiliates         201\n",
       "Display             69\n",
       "Name: channelGrouping, dtype: int64"
      ]
     },
     "execution_count": 25,
     "metadata": {},
     "output_type": "execute_result"
    }
   ],
   "source": [
    "# look at 'channelGrouping' values\n",
    "df_copy['channelGrouping'].value_counts()"
   ]
  },
  {
   "cell_type": "code",
   "execution_count": 27,
   "metadata": {},
   "outputs": [
    {
     "data": {
      "text/plain": [
       "0    20160902\n",
       "1    20160902\n",
       "2    20160902\n",
       "3    20160902\n",
       "4    20160902\n",
       "Name: date, dtype: int64"
      ]
     },
     "execution_count": 27,
     "metadata": {},
     "output_type": "execute_result"
    }
   ],
   "source": [
    "# look at 'date' column\n",
    "# date is in Y/M/D format Remember!\n",
    "df_copy['date'].head()"
   ]
  },
  {
   "cell_type": "markdown",
   "metadata": {},
   "source": [
    "    this is definitely wrong! as date is represented by integers"
   ]
  },
  {
   "cell_type": "markdown",
   "metadata": {},
   "source": [
    "\n"
   ]
  },
  {
   "cell_type": "code",
   "execution_count": 28,
   "metadata": {},
   "outputs": [],
   "source": [
    "# now convert the str to datetime on the format Y-M-D\n",
    "df_copy['date'] = pd.to_datetime(df_copy['date'], format = '%Y%m%d')"
   ]
  },
  {
   "cell_type": "code",
   "execution_count": 29,
   "metadata": {},
   "outputs": [
    {
     "data": {
      "text/plain": [
       "0   2016-09-02\n",
       "1   2016-09-02\n",
       "2   2016-09-02\n",
       "3   2016-09-02\n",
       "4   2016-09-02\n",
       "Name: date, dtype: datetime64[ns]"
      ]
     },
     "execution_count": 29,
     "metadata": {},
     "output_type": "execute_result"
    }
   ],
   "source": [
    "# make sure the conversion is done \n",
    "df_copy['date'].head()"
   ]
  },
  {
   "cell_type": "code",
   "execution_count": null,
   "metadata": {},
   "outputs": [],
   "source": []
  }
 ],
 "metadata": {
  "kernelspec": {
   "display_name": "Python 3",
   "language": "python",
   "name": "python3"
  },
  "language_info": {
   "codemirror_mode": {
    "name": "ipython",
    "version": 3
   },
   "file_extension": ".py",
   "mimetype": "text/x-python",
   "name": "python",
   "nbconvert_exporter": "python",
   "pygments_lexer": "ipython3",
   "version": "3.7.0"
  }
 },
 "nbformat": 4,
 "nbformat_minor": 2
}
